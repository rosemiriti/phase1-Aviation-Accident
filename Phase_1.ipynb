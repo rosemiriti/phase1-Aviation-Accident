{
 "cells": [
  {
   "cell_type": "markdown",
   "id": "fbf138fa-0e96-42ce-bd1f-55da79dae9a8",
   "metadata": {
    "id": "fbf138fa-0e96-42ce-bd1f-55da79dae9a8"
   },
   "source": [
    "**Aviation Accident Risk Assessment: Analyzing Aircraft Safety**\n",
    "\n",
    "For this project, I will be working with a [dataset](https://www.kaggle.com/datasets/khsamaha/aviation-accident-database-synopses/data) sourced from the National Transportation Safety Board (NTSB), which contains information on aviation accidents that occurred between 1962 and 2022. The dataset includes several key attributes, such as:\n",
    "\n",
    "**Aircraft.Type:** The model of the aircraft involved in the accident.\n",
    "\n",
    "**Event.Date:** The specific date when the accident took place.\n",
    "\n",
    "**Location:** The geographic location where the accident occurred.\n",
    "\n",
    "**Weather.Condition:** The weather conditions present at the time of the accident.\n",
    "\n",
    "**Total.Fatal.Injuries:** The total number of fatalities resulting from the accident.\n",
    "\n",
    "The project will follow these main steps:\n",
    "\n",
    "**Data Cleaning:** This involves handling missing values and ensuring data consistency.\n",
    "\n",
    "**Exploratory Data Analysis (EDA):** I will examine patterns in the data related to aircraft types, locations, and weather conditions.\n",
    "\n",
    "\n",
    "**Data Visualization:** Various visual tools will be created to present the findings clearly.\n",
    "\n",
    "**Business Insights:** Based on the analysis, I will generate recommendations to help guide decisions in the aviation industry.\n"
   ]
  },
  {
   "cell_type": "code",
   "execution_count": null,
   "id": "ed4b093c-b349-4113-b048-45214ad5760c",
   "metadata": {
    "id": "ed4b093c-b349-4113-b048-45214ad5760c"
   },
   "outputs": [],
   "source": [
    "#Importing necessary Libraries\n",
    "\n",
    "import pandas as pd\n",
    "import numpy as np\n",
    "import matplotlib.pyplot as plt\n",
    "import warnings\n",
    "warnings.filterwarnings('ignore')"
   ]
  },
  {
   "cell_type": "markdown",
   "id": "35jeabEXV19b",
   "metadata": {
    "id": "35jeabEXV19b"
   },
   "source": [
    "Loading AviationData.csvinto pandas DataFrames."
   ]
  },
  {
   "cell_type": "code",
   "execution_count": null,
   "id": "9HWhdc_xV8QR",
   "metadata": {
    "id": "9HWhdc_xV8QR"
   },
   "outputs": [],
   "source": [
    "# Loading the aviation data (Unfortunately I had to use the encoding because it was giving me an error when I was reading the file like I was shown in the  course work)\n",
    "aviation_df = pd.read_csv(\"AviationData.csv\", encoding='ISO-8859-1')\n"
   ]
  },
  {
   "cell_type": "markdown",
   "id": "vVq0HTRsaVh-",
   "metadata": {
    "id": "vVq0HTRsaVh-"
   },
   "source": [
    "**Step 1: Data Cleaning**\n",
    "\n",
    "Before performing any analysis, I need to clean the data. This involves:\n",
    "- **Handling missing values**: I need to check if any data is missing and decide how to handle it (by either removing or filling the missing data).\n",
    "- **Ensuring correct data types**: For example, the `Event.Date` column should be in **datetime** format, and columns like `Latitude` and `Longitude` should be numeric.\n",
    "\n",
    "I will perform these steps to ensure the dataset is clean and ready for analysis."
   ]
  },
  {
   "cell_type": "code",
   "execution_count": null,
   "id": "zhWwauQaaga0",
   "metadata": {
    "colab": {
     "base_uri": "https://localhost:8080/"
    },
    "id": "zhWwauQaaga0",
    "outputId": "d8122ad3-14f4-4046-96a0-85fc0d32ba53"
   },
   "outputs": [],
   "source": [
    "# Replace placeholder values (\"-\") with NaN\n",
    "aviation_df.replace(\"-\", np.nan, inplace=True)\n",
    "\n",
    "# Check the number of missing values in each column\n",
    "print(\"Missing values before cleaning:\")\n",
    "print(aviation_df.isnull().sum())\n",
    "\n",
    "# Drop rows with missing values\n",
    "aviation_df_cleaned = aviation_df.dropna()\n",
    "\n",
    "# Confirm the dataset size after cleaning\n",
    "print(f\"Dataset size after cleaning: {aviation_df_cleaned.shape}\")\n",
    "\n",
    "# Convert data types where necessary\n",
    "aviation_df_cleaned['Event.Date'] = pd.to_datetime(aviation_df_cleaned['Event.Date'], errors='coerce')\n",
    "aviation_df_cleaned['Latitude'] = pd.to_numeric(aviation_df_cleaned['Latitude'], errors='coerce')\n",
    "aviation_df_cleaned['Longitude'] = pd.to_numeric(aviation_df_cleaned['Longitude'], errors='coerce')\n",
    "\n",
    "# Checking for invalid dates\n",
    "if aviation_df_cleaned['Event.Date'].isnull().any():\n",
    "    print(\"Warning: Some dates could not be parsed. These rows may need further investigation.\")\n",
    "\n",
    "# Checking for invalid or missing coordinates\n",
    "missing_coords = aviation_df_cleaned[['Latitude', 'Longitude']].isnull().any(axis=1).sum()\n",
    "if missing_coords > 0:\n",
    "    print(f\"Warning: {missing_coords} rows have missing or invalid coordinates.\")\n",
    "\n",
    "# Ensure no placeholder values are left\n",
    "if \"-\" in aviation_df_cleaned.values:\n",
    "    print(\"Some placeholder values ('-') still exist in the dataset.\")\n",
    "else:\n",
    "    print(\"All placeholder values have been successfully replaced.\")\n",
    "\n",
    "# Displaying a preview of the cleaned dataset\n",
    "print(\"Preview of the cleaned data:\")\n",
    "print(aviation_df_cleaned.head())\n"
   ]
  },
  {
   "cell_type": "markdown",
   "id": "JnxUsRGsfGKr",
   "metadata": {
    "id": "JnxUsRGsfGKr"
   },
   "source": [
    "**Step 2:** **Exploratory Data Analysis (EDA)**\n",
    "\n",
    "In the EDA phase, I will examine the data to find patterns, trends, or relationships.\n",
    "\n",
    "**Key Questions for EDA:**\n",
    "\n",
    "\n",
    "1.   Which aircraft types are most involved in accidents?\n",
    "2.   How do weather conditions affect accident rates?\n",
    "3.   What time periods or locations show the most accidents?\n"
   ]
  },
  {
   "cell_type": "markdown",
   "id": "bjpwDTsEgBlB",
   "metadata": {
    "id": "bjpwDTsEgBlB"
   },
   "source": [
    "Analyzing which aircraft types are most involved in accidents. This will help identify if certain aircraft types have higher accident rates."
   ]
  },
  {
   "cell_type": "code",
   "execution_count": null,
   "id": "YyXrw2_gf-vs",
   "metadata": {
    "colab": {
     "base_uri": "https://localhost:8080/"
    },
    "id": "YyXrw2_gf-vs",
    "outputId": "b472d7d5-2ca8-43bc-c170-b8148494e546"
   },
   "outputs": [],
   "source": [
    "# Groups by aircraft make and count the number of accidents\n",
    "accidents_by_type = aviation_df_cleaned.groupby('Make')['Event.Id'].count()\n",
    "\n",
    "# Sort results in descending order to show the most accident-prone aircraft types\n",
    "accidents_by_type = accidents_by_type.sort_values(ascending=False)\n",
    "\n",
    "# Displays the top 10 aircraft makes with the highest number of accidents\n",
    "print(\"Top 10 aircraft makes with the most accidents:\")\n",
    "print(accidents_by_type.head(10))"
   ]
  },
  {
   "cell_type": "code",
   "execution_count": null,
   "id": "cFc3yYWI6r5B",
   "metadata": {
    "colab": {
     "base_uri": "https://localhost:8080/"
    },
    "id": "cFc3yYWI6r5B",
    "outputId": "0db735c1-a9fa-4aac-c79e-f571beaea5b5"
   },
   "outputs": [],
   "source": [
    "# Check if dataset is empty\n",
    "if aviation_df_cleaned.empty:\n",
    "    print(\"The dataset is empty after cleaning. Please check the data cleaning process.\")\n",
    "else:\n",
    "    # Group by aircraft make and count the number of accidents\n",
    "    if 'Make' in aviation_df_cleaned.columns and 'Event.Id' in aviation_df_cleaned.columns:\n",
    "        accidents_by_type = aviation_df_cleaned.groupby('Make')['Event.Id'].count()\n",
    "        \n",
    "        # Sort results in descending order\n",
    "        accidents_by_type = accidents_by_type.sort_values(ascending=False)\n",
    "        \n",
    "        # Display results if there are any\n",
    "        if not accidents_by_type.empty:\n",
    "            print(\"Top 10 aircraft makes with the most accidents:\")\n",
    "            print(accidents_by_type.head(10))\n",
    "        else:\n",
    "            print(\"No accident data available for grouping.\")\n",
    "    else:\n",
    "        print(\"Columns 'Make' or 'Event.Id' are missing in the dataset. Please check your data.\")"
   ]
  },
  {
   "cell_type": "code",
   "execution_count": null,
   "id": "cffbafac-1bba-4c2f-a833-7adee824483b",
   "metadata": {},
   "outputs": [],
   "source": [
    "# Fill missing values for 'Make' with \"Unknown\"\n",
    "aviation_df_cleaned['Make'] = aviation_df_cleaned['Make'].fillna('Unknown')\n",
    "\n",
    "# Fill missing 'Event.Id' values with 0, or leave them as NaN\n",
    "aviation_df_cleaned['Event.Id'] = aviation_df_cleaned['Event.Id'].fillna(0)\n",
    "\n",
    "# Check the dataset's shape after filling missing values\n",
    "print(f\"Dataset shape after filling missing values: {aviation_df_cleaned.shape}\")\n",
    "\n",
    "# Quick check for any remaining missing values\n",
    "print(\"Remaining missing values in each column:\")\n",
    "print(aviation_df_cleaned.isnull().sum())"
   ]
  },
  {
   "cell_type": "code",
   "execution_count": null,
   "id": "968ed02f-882c-4c7c-954b-c5f767c716a5",
   "metadata": {},
   "outputs": [],
   "source": [
    "#Reading the dataset again and checking its shape\n",
    "aviation_df_raw = pd.read_csv(\"AviationData.csv\" ,encoding='ISO-8859-1')\n",
    "\n",
    "print(aviation_df_raw.shape)\n",
    "aviation_df_raw.head()"
   ]
  },
  {
   "cell_type": "code",
   "execution_count": null,
   "id": "c4050ce3-d868-4a13-acf2-85893f9373e7",
   "metadata": {},
   "outputs": [],
   "source": [
    "# Checking for missing values in the 'Make' and 'Event.Id' columns\n",
    "print(\"Checking for missing values in critical columns:\")\n",
    "missing_values = aviation_df_raw[['Make', 'Event.Id']].isnull().sum()\n",
    "print(missing_values)"
   ]
  },
  {
   "cell_type": "code",
   "execution_count": null,
   "id": "679bd6b0-80c7-4d3c-83f8-e4d59194776a",
   "metadata": {},
   "outputs": [],
   "source": [
    "# Display all column names to verify the dataset structure\n",
    "print(\"\\nColumn names in the dataset:\")\n",
    "print(aviation_df_raw.columns.tolist())"
   ]
  },
  {
   "cell_type": "code",
   "execution_count": null,
   "id": "b48ca527-4f01-4590-8f70-657dd98ec4e6",
   "metadata": {},
   "outputs": [],
   "source": [
    "# Fill missing values: 'Unknown' for 'Make', and 0 for 'Event.Id'\n",
    "aviation_df_cleaned = aviation_df_raw.fillna({'Make': 'Unknown', 'Event.Id': 0})\n",
    "\n",
    "# Print the shape of the dataset after filling missing values\n",
    "print(f\"Dataset shape after filling missing values: {aviation_df_cleaned.shape}\")\n",
    "\n",
    "# Preview the first few rows of the cleaned dataset\n",
    "print(\"\\nPreview of the cleaned dataset:\")\n",
    "print(aviation_df_cleaned.head())"
   ]
  },
  {
   "cell_type": "markdown",
   "id": "3852eea2-8432-4111-90c7-bda57b89a252",
   "metadata": {},
   "source": [
    "Analyzing Accidents by Aircraft Make \n",
    "\n",
    "I will group the data by Make and count the number of accidents per aircraft manufacturer.\n"
   ]
  },
  {
   "cell_type": "code",
   "execution_count": null,
   "id": "c7c9deed-809b-48ef-aeed-209fd88ee509",
   "metadata": {},
   "outputs": [],
   "source": [
    "# Group by aircraft make and count the number of accidents\n",
    "accidents_by_make = aviation_df_cleaned.groupby('Make')['Event.Id'].count()\n",
    "\n",
    "# Sort the results in descending order to find the most accident-prone aircraft makes\n",
    "accidents_by_make = accidents_by_make.sort_values(ascending=False)\n",
    "\n",
    "# Display the top 10 aircraft makes with the most accidents\n",
    "print(\"Top 10 aircraft makes with the most accidents:\")\n",
    "print(accidents_by_make.head(10))"
   ]
  },
  {
   "cell_type": "markdown",
   "id": "9a9d7f02-46f6-4575-ac0f-5d48f5a7b855",
   "metadata": {},
   "source": [
    "Visualizing Accidents by Aircraft Make, using a bar chart."
   ]
  },
  {
   "cell_type": "code",
   "execution_count": 66,
   "id": "828f9867-2b19-47a6-a98b-4b0e8ce61ce4",
   "metadata": {},
   "outputs": [
    {
     "data": {
      "image/png": "[encoded data removed]",
      "text/plain": [
       "<Figure size 1000x600 with 1 Axes>"
      ]
     },
     "metadata": {},
     "output_type": "display_data"
    }
   ],
   "source": [
    "# Plot the top 10 aircraft makes with the most accidents\n",
    "accidents_by_make.head(10).plot(kind='bar', figsize=(10, 6), color='skyblue')\n",
    "\n",
    "# Add meaningful titles and labels\n",
    "plt.title('Top 10 Aircraft Makes with the Most Accidents')\n",
    "plt.xlabel('Aircraft Make')\n",
    "plt.ylabel('Number of Accidents')\n",
    "\n",
    "plt.show()"
   ]
  },
  {
   "cell_type": "markdown",
   "id": "482ef880-1c0a-45d5-b860-44e6ec05042e",
   "metadata": {},
   "source": [
    "Analyze Accidents by Weather Condition\n"
   ]
  },
  {
   "cell_type": "code",
   "execution_count": null,
   "id": "0caed367-8c75-40e2-b79e-e1e8518200f2",
   "metadata": {},
   "outputs": [],
   "source": [
    "# Grouping by weather condition and count the number of accidents\n",
    "accidents_by_weather = aviation_df_cleaned.groupby('Weather.Condition')['Event.Id'].count()\n",
    "\n",
    "# Sorting the results in descending order to find the most common weather conditions for accidents\n",
    "accidents_by_weather = accidents_by_weather.sort_values(ascending=False)\n",
    "\n",
    "# Displaying the top 10 weather conditions with the most accidents\n",
    "print(\"\\nTop 10 weather conditions associated with the most accidents:\")\n",
    "print(accidents_by_weather.head(10))"
   ]
  },
  {
   "cell_type": "markdown",
   "id": "ad5eb0f0-5c75-4210-a51d-d051c5782b8e",
   "metadata": {},
   "source": [
    "Data Visualization for Weather Conditions using bar chart\n"
   ]
  },
  {
   "cell_type": "code",
   "execution_count": 64,
   "id": "9ac1a7ae-ec32-499f-a9dd-42605a9adec0",
   "metadata": {},
   "outputs": [
    {
     "data": {
      "image/png": "[encoded data removed]",
      "text/plain": [
       "<Figure size 1000x600 with 1 Axes>"
      ]
     },
     "metadata": {},
     "output_type": "display_data"
    }
   ],
   "source": [
    "# Ploing the top 10 weather conditions with the most accidents\n",
    "accidents_by_weather.head(10).plot(kind='bar', figsize=(10, 6), color='skyblue')\n",
    "\n",
    "# Add chart title and axis labels\n",
    "plt.title('Top 10 Weather Conditions with Most Accidents')\n",
    "plt.xlabel('Weather Condition')\n",
    "plt.ylabel('Number of Accidents')\n",
    "\n",
    "plt.show()"
   ]
  },
  {
   "cell_type": "markdown",
   "id": "42cd355a-3eec-411d-af26-859fd5b5aba5",
   "metadata": {},
   "source": [
    "Further Analysis by Location or Year\r\n",
    "\r\n",
    "1. Accidents by Year:\r\n",
    "\r\n",
    "Looking at trends over time by grouping accidents by year. This might show if there is a rise or fall in the number of accidents over the yers.\r\n"
   ]
  },
  {
   "cell_type": "code",
   "execution_count": null,
   "id": "93c17226-3891-421c-9273-69f614ca4ec8",
   "metadata": {},
   "outputs": [],
   "source": [
    "# Extracting the year from the 'Event.Date' column\n",
    "aviation_df_cleaned['Year'] = pd.to_datetime(aviation_df_cleaned['Event.Date'], errors='coerce').dt.year\n",
    "\n",
    "# Grouping by year and count the number of accidents\n",
    "accidents_by_year = aviation_df_cleaned.groupby('Year')['Event.Id'].count()\n",
    "\n",
    "# Displaying the top 10 years with the most accidents\n",
    "print(\"Top 10 years with the most accidents:\")\n",
    "print(accidents_by_year.sort_values(ascending=False).head(10))"
   ]
  },
  {
   "cell_type": "markdown",
   "id": "0473a966-3f5d-4b7a-9d60-4d58fdd39f53",
   "metadata": {},
   "source": [
    "2. Accidents by Location (e.g., State or Country):\n",
    "\n",
    "Analyzing how accidents are distributed across different locations (e.g., by state or country)."
   ]
  },
  {
   "cell_type": "code",
   "execution_count": null,
   "id": "9fb7d3c5-4961-4b36-9e4f-82782bf8caaf",
   "metadata": {},
   "outputs": [],
   "source": [
    "# Grouping by location (Country) and count the number of accidents\r\n",
    "accidents_by_location = aviation_df_cleaned.groupby('Country')['Event.Id'].count()\r\n",
    "\r\n",
    "# Sorting the results in descending order and display the top 10 locations with the most accidents\r\n",
    "print(\"\\nTop 10 countries with the most accidents:\")\r\n",
    "print(accidents_by_location.sort_values(ascending=False).head(10))\r\n"
   ]
  },
  {
   "cell_type": "markdown",
   "id": "ddad0e9c-f39e-4c5e-a03b-eb888d0e67ef",
   "metadata": {},
   "source": [
    "Recommendation\r\n",
    "\r\n",
    "Aircraft Types: Avoid high-risk aircraft makes (e.g., Cessna, Piper) or invest in newer models with fewer accidents.\r\n",
    "\r\n",
    "Weather: Improve weather preparedness through training, real-time monitoring, and operational adjustments in extreme weather conditions.\r\n",
    "\r\n",
    "Location: Focus on high-risk areas with additional safety measures, route adjustments, and infrastructure improvements."
   ]
  }
 ],
 "metadata": {
  "colab": {
   "provenance": []
  },
  "kernelspec": {
   "display_name": "Python 3 (ipykernel)",
   "language": "python",
   "name": "python3"
  },
  "language_info": {
   "codemirror_mode": {
    "name": "ipython",
    "version": 3
   },
   "file_extension": ".py",
   "mimetype": "text/x-python",
   "name": "python",
   "nbconvert_exporter": "python",
   "pygments_lexer": "ipython3",
   "version": "3.11.7"
  }
 },
 "nbformat": 4,
 "nbformat_minor": 5
}
