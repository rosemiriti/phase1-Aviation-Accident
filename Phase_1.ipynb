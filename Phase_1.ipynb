{
 "cells": [
  {
   "cell_type": "markdown",
   "id": "fbf138fa-0e96-42ce-bd1f-55da79dae9a8",
   "metadata": {
    "id": "fbf138fa-0e96-42ce-bd1f-55da79dae9a8"
   },
   "source": [
    "**Aviation Accident Risk Assessment: Analyzing Aircraft Safety**\n",
    "\n",
    "For this project, we will be working with a [dataset](https://www.kaggle.com/datasets/khsamaha/aviation-accident-database-synopses/data) sourced from the National Transportation Safety Board (NTSB), which contains information on aviation accidents that occurred between 1962 and 2022. The dataset includes several key attributes, such as:\n",
    "\n",
    "**Aircraft.Type:** The model of the aircraft involved in the accident.\n",
    "\n",
    "**Event.Date:** The specific date when the accident took place.\n",
    "\n",
    "**Location:** The geographic location where the accident occurred.\n",
    "\n",
    "**Weather.Condition:** The weather conditions present at the time of the accident.\n",
    "\n",
    "**Total.Fatal.Injuries:** The total number of fatalities resulting from the accident.\n",
    "\n",
    "The project will follow these main steps:\n",
    "\n",
    "**Data Cleaning:** This involves handling missing values and ensuring data consistency.\n",
    "\n",
    "**Exploratory Data Analysis (EDA):** I will examine patterns in the data related to aircraft types, locations, and weather conditions.\n",
    "\n",
    "\n",
    "**Data Visualization:** Various visual tools will be created to present the findings clearly.\n",
    "\n",
    "**Business Insights:** Based on the analysis, I will generate recommendations to help guide decisions in the aviation industry.\n"
   ]
  },
  {
   "cell_type": "code",
   "execution_count": 1,
   "id": "ed4b093c-b349-4113-b048-45214ad5760c",
   "metadata": {
    "id": "ed4b093c-b349-4113-b048-45214ad5760c"
   },
   "outputs": [],
   "source": [
    "#Importing necessary Libraries\n",
    "\n",
    "import pandas as pd\n",
    "import numpy as np\n",
    "import matplotlib.pyplot as plt\n",
    "import plotly.express as px\n",
    "import warnings\n",
    "warnings.filterwarnings('ignore')"
   ]
  },
  {
   "cell_type": "markdown",
   "id": "35jeabEXV19b",
   "metadata": {
    "id": "35jeabEXV19b"
   },
   "source": [
    "Loading AviationData.csv and USState_Codes.csv into pandas DataFrames."
   ]
  },
  {
   "cell_type": "code",
   "execution_count": 3,
   "id": "9HWhdc_xV8QR",
   "metadata": {
    "id": "9HWhdc_xV8QR"
   },
   "outputs": [],
   "source": [
    "# Load the aviation data and state codes data\n",
    "aviation_df = pd.read_csv('./AviationData.csv', encoding='ISO-8859-1')\n",
    "state_codes_df = pd.read_csv('./USState_Codes.csv')"
   ]
  },
  {
   "cell_type": "markdown",
   "id": "vVq0HTRsaVh-",
   "metadata": {
    "id": "vVq0HTRsaVh-"
   },
   "source": [
    "**Step 1: Data Cleaning**\n",
    "\n",
    "Before performing any analysis, we need to clean the data. This involves:\n",
    "- **Handling missing values**: We need to check if any data is missing and decide how to handle it (by either removing or filling the missing data).\n",
    "- **Ensuring correct data types**: For example, the `Event.Date` column should be in **datetime** format, and columns like `Latitude` and `Longitude` should be numeric.\n",
    "\n",
    "We will perform these steps to ensure the dataset is clean and ready for analysis."
   ]
  },
  {
   "cell_type": "code",
   "execution_count": null,
   "id": "zhWwauQaaga0",
   "metadata": {
    "colab": {
     "base_uri": "https://localhost:8080/"
    },
    "id": "zhWwauQaaga0",
    "outputId": "d8122ad3-14f4-4046-96a0-85fc0d32ba53"
   },
   "outputs": [],
   "source": [
    "# Replace placeholder values (\"-\") with NaN\n",
    "aviation_df.replace(\"-\", np.nan, inplace=True)\n",
    "\n",
    "# Check the number of missing values in each column\n",
    "print(\"Missing values before cleaning:\")\n",
    "print(aviation_df.isnull().sum())\n",
    "\n",
    "# Drop rows with missing values\n",
    "aviation_df_cleaned = aviation_df.dropna()\n",
    "\n",
    "# Confirm the dataset size after cleaning\n",
    "print(f\"Dataset size after cleaning: {aviation_df_cleaned.shape}\")\n",
    "\n",
    "# Convert data types where necessary\n",
    "aviation_df_cleaned['Event.Date'] = pd.to_datetime(aviation_df_cleaned['Event.Date'], errors='coerce')\n",
    "aviation_df_cleaned['Latitude'] = pd.to_numeric(aviation_df_cleaned['Latitude'], errors='coerce')\n",
    "aviation_df_cleaned['Longitude'] = pd.to_numeric(aviation_df_cleaned['Longitude'], errors='coerce')\n",
    "\n",
    "# Quick check for invalid dates\n",
    "if aviation_df_cleaned['Event.Date'].isnull().any():\n",
    "    print(\"Warning: Some dates could not be parsed. These rows may need further investigation.\")\n",
    "\n",
    "# Check for invalid or missing coordinates\n",
    "missing_coords = aviation_df_cleaned[['Latitude', 'Longitude']].isnull().any(axis=1).sum()\n",
    "if missing_coords > 0:\n",
    "    print(f\"Warning: {missing_coords} rows have missing or invalid coordinates.\")\n",
    "\n",
    "# Ensure no placeholder values are left\n",
    "if \"-\" in aviation_df_cleaned.values:\n",
    "    print(\"Some placeholder values ('-') still exist in the dataset.\")\n",
    "else:\n",
    "    print(\"All placeholder values have been successfully replaced.\")\n",
    "\n",
    "# Display a preview of the cleaned dataset\n",
    "print(\"Preview of the cleaned data:\")\n",
    "print(aviation_df_cleaned.head())\n"
   ]
  },
  {
   "cell_type": "markdown",
   "id": "JnxUsRGsfGKr",
   "metadata": {
    "id": "JnxUsRGsfGKr"
   },
   "source": [
    "**Step 2:** **Exploratory Data Analysis (EDA)**\n",
    "In the EDA phase, we will:\n",
    "\n",
    "Examine the data to find patterns, trends, or relationships.\n",
    "Answer key questions about the data (e.g., which aircraft types are most involved in accidents? How do weather conditions affect accidents?).\n",
    "Generate insights to help create business recommendations.\n",
    "\n",
    "**Key Questions for EDA:**\n",
    "\n",
    "\n",
    "1.   Which aircraft types are most involved in accidents?\n",
    "2.   How do weather conditions affect accident rates?\n",
    "3.   What time periods or locations show the most accidents?\n"
   ]
  },
  {
   "cell_type": "markdown",
   "id": "bjpwDTsEgBlB",
   "metadata": {
    "id": "bjpwDTsEgBlB"
   },
   "source": [
    "Analyzing which aircraft types are most involved in accidents. This will help identify if certain aircraft types have higher accident rates."
   ]
  },
  {
   "cell_type": "code",
   "execution_count": 7,
   "id": "YyXrw2_gf-vs",
   "metadata": {
    "colab": {
     "base_uri": "https://localhost:8080/"
    },
    "id": "YyXrw2_gf-vs",
    "outputId": "b472d7d5-2ca8-43bc-c170-b8148494e546"
   },
   "outputs": [
    {
     "name": "stdout",
     "output_type": "stream",
     "text": [
      "Top 10 aircraft makes with the most accidents:\n",
      "Series([], Name: Event.Id, dtype: int64)\n"
     ]
    }
   ],
   "source": [
    "# Group by aircraft make and count the number of accidents\n",
    "accidents_by_type = aviation_df_cleaned.groupby('Make')['Event.Id'].count()\n",
    "\n",
    "# Sort results in descending order to show the most accident-prone aircraft types\n",
    "accidents_by_type = accidents_by_type.sort_values(ascending=False)\n",
    "\n",
    "# Display the top 10 aircraft makes with the highest number of accidents\n",
    "print(\"Top 10 aircraft makes with the most accidents:\")\n",
    "print(accidents_by_type.head(10))\n"
   ]
  },
  {
   "cell_type": "code",
   "execution_count": 44,
   "id": "cFc3yYWI6r5B",
   "metadata": {
    "colab": {
     "base_uri": "https://localhost:8080/"
    },
    "id": "cFc3yYWI6r5B",
    "outputId": "0db735c1-a9fa-4aac-c79e-f571beaea5b5"
   },
   "outputs": [
    {
     "name": "stdout",
     "output_type": "stream",
     "text": [
      "The dataset is empty after cleaning. Please check the data cleaning process.\n"
     ]
    }
   ],
   "source": [
    "# Check if dataset is empty\n",
    "if aviation_df_cleaned.empty:\n",
    "    print(\"The dataset is empty after cleaning. Please check the data cleaning process.\")\n",
    "else:\n",
    "    # Group by aircraft make and count the number of accidents\n",
    "    if 'Make' in aviation_df_cleaned.columns and 'Event.Id' in aviation_df_cleaned.columns:\n",
    "        accidents_by_type = aviation_df_cleaned.groupby('Make')['Event.Id'].count()\n",
    "\n",
    "        # Sort results in descending order\n",
    "        accidents_by_type = accidents_by_type.sort_values(ascending=False)\n",
    "\n",
    "        # Display results if there are any\n",
    "        if not accidents_by_type.empty:\n",
    "            print(\"Top 10 aircraft makes with the most accidents:\")\n",
    "            print(accidents_by_type.head(10))\n",
    "        else:\n",
    "            print(\"No accident data available for grouping.\")\n",
    "    else:\n",
    "        print(\"Columns 'Make' or 'Event.Id' are missing in the dataset. Please check your data.\")\n"
   ]
  },
  {
   "cell_type": "code",
   "execution_count": null,
   "id": "a886baec-f9c8-4929-a43a-b3da2ceab11f",
   "metadata": {},
   "outputs": [],
   "source": [
    "# Fill missing values for 'Make' with \"Unknown\"\n",
    "aviation_df_cleaned['Make'] = aviation_df_cleaned['Make'].fillna('Unknown')\n",
    "\n",
    "# Fill missing 'Event.Id' values with 0, or leave them as NaN\n",
    "aviation_df_cleaned['Event.Id'] = aviation_df_cleaned['Event.Id'].fillna(0)\n",
    "\n",
    "# Check the dataset's shape after filling missing values\n",
    "print(f\"Dataset shape after filling missing values: {aviation_df_cleaned.shape}\")\n",
    "\n",
    "# Quick check for any remaining missing values\n",
    "print(\"Remaining missing values in each column:\")\n",
    "print(aviation_df_cleaned.isnull().sum())"
   ]
  },
  {
   "cell_type": "code",
   "execution_count": null,
   "id": "78dfba07-5e5e-4fa9-8d6c-df10d5fe93cd",
   "metadata": {},
   "outputs": [],
   "source": []
  }
 ],
 "metadata": {
  "colab": {
   "provenance": []
  },
  "kernelspec": {
   "display_name": "Python 3 (ipykernel)",
   "language": "python",
   "name": "python3"
  },
  "language_info": {
   "codemirror_mode": {
    "name": "ipython",
    "version": 3
   },
   "file_extension": ".py",
   "mimetype": "text/x-python",
   "name": "python",
   "nbconvert_exporter": "python",
   "pygments_lexer": "ipython3",
   "version": "3.11.7"
  }
 },
 "nbformat": 4,
 "nbformat_minor": 5
}
